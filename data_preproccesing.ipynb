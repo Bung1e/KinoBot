{
 "cells": [
  {
   "cell_type": "code",
   "execution_count": 27,
   "metadata": {},
   "outputs": [],
   "source": [
    "import pandas as pd \n",
    "import numpy as np"
   ]
  },
  {
   "cell_type": "code",
   "execution_count": 7,
   "metadata": {},
   "outputs": [
    {
     "data": {
      "text/plain": [
       "(416809, 2)"
      ]
     },
     "execution_count": 7,
     "metadata": {},
     "output_type": "execute_result"
    }
   ],
   "source": [
    "data = pd.read_csv(\"datasets/hugging/train-00000-of-00001.csv\")\n",
    "df = pd.DataFrame(data)\n",
    "names = {\n",
    "     0: 'sadness',\n",
    "     1: 'joy',\n",
    "     2: 'love',\n",
    "     3: 'anger',\n",
    "     4: 'fear',\n",
    "     5: 'surprise'\n",
    "}\n",
    "df.shape"
   ]
  },
  {
   "cell_type": "code",
   "execution_count": 16,
   "metadata": {},
   "outputs": [
    {
     "name": "stdout",
     "output_type": "stream",
     "text": [
      "<class 'pandas.core.frame.DataFrame'>\n",
      "RangeIndex: 416809 entries, 0 to 416808\n",
      "Data columns (total 2 columns):\n",
      " #   Column  Non-Null Count   Dtype \n",
      "---  ------  --------------   ----- \n",
      " 0   text    416809 non-null  object\n",
      " 1   label   416809 non-null  int64 \n",
      "dtypes: int64(1), object(1)\n",
      "memory usage: 6.4+ MB\n"
     ]
    }
   ],
   "source": [
    "df.info()"
   ]
  },
  {
   "cell_type": "code",
   "execution_count": 20,
   "metadata": {},
   "outputs": [
    {
     "data": {
      "text/plain": [
       "text     0\n",
       "label    0\n",
       "dtype: int64"
      ]
     },
     "execution_count": 20,
     "metadata": {},
     "output_type": "execute_result"
    }
   ],
   "source": [
    "missing_values = df.isna().sum()\n",
    "missing_values"
   ]
  },
  {
   "cell_type": "code",
   "execution_count": 25,
   "metadata": {},
   "outputs": [
    {
     "data": {
      "application/vnd.microsoft.datawrangler.viewer.v0+json": {
       "columns": [
        {
         "name": "index",
         "rawType": "int64",
         "type": "integer"
        },
        {
         "name": "text",
         "rawType": "object",
         "type": "string"
        },
        {
         "name": "label",
         "rawType": "int64",
         "type": "integer"
        }
       ],
       "conversionMethod": "pd.DataFrame",
       "ref": "de3f76cb-994e-4ab2-bf08-64b8c0894f7a",
       "rows": [
        [
         "195985",
         "i feel so unloved my own boyfriend",
         "0"
        ],
        [
         "221280",
         "i was really excited i was also feeling a little apprehensive all day",
         "4"
        ],
        [
         "41268",
         "i could feel the cold concrete a flat even outdoor surface mind you amp yikes was that a shock to my system",
         "3"
        ],
        [
         "259719",
         "i hated the drugs i hated feeling people moving things around inside of me which despite the drugs you do feel i hated not having my baby on my belly immediately upon arrival i hated being too drugged to hold her and i hated the long recovery",
         "3"
        ],
        [
         "48421",
         "i feel him in the sight and touch of my beloved",
         "1"
        ],
        [
         "240246",
         "i can understand and appreciate the need for diplomacy i feel that it is being abused",
         "0"
        ],
        [
         "307655",
         "i think my spidey senses very awesome womens intuition says you may even feel a tad relieved to read it",
         "1"
        ],
        [
         "71994",
         "i feel as if i wronged my self honestly i thats the way i felt",
         "3"
        ],
        [
         "91016",
         "i am feeling a little paranoid about getting sick a little anxious about my husband s stupid garage project and more than a bit worried about my father and i m wondering if maybe i need one of those a href http www",
         "4"
        ],
        [
         "335010",
         "im just not a dramatic guy and im the type of guy that i pretty much get along with everybody so you know im just level headed and i feel like im a cool guy thats laid back and dramas just not my thing so i didnt get entangled in it too much",
         "1"
        ]
       ],
       "shape": {
        "columns": 2,
        "rows": 10
       }
      },
      "text/html": [
       "<div>\n",
       "<style scoped>\n",
       "    .dataframe tbody tr th:only-of-type {\n",
       "        vertical-align: middle;\n",
       "    }\n",
       "\n",
       "    .dataframe tbody tr th {\n",
       "        vertical-align: top;\n",
       "    }\n",
       "\n",
       "    .dataframe thead th {\n",
       "        text-align: right;\n",
       "    }\n",
       "</style>\n",
       "<table border=\"1\" class=\"dataframe\">\n",
       "  <thead>\n",
       "    <tr style=\"text-align: right;\">\n",
       "      <th></th>\n",
       "      <th>text</th>\n",
       "      <th>label</th>\n",
       "    </tr>\n",
       "  </thead>\n",
       "  <tbody>\n",
       "    <tr>\n",
       "      <th>195985</th>\n",
       "      <td>i feel so unloved my own boyfriend</td>\n",
       "      <td>0</td>\n",
       "    </tr>\n",
       "    <tr>\n",
       "      <th>221280</th>\n",
       "      <td>i was really excited i was also feeling a litt...</td>\n",
       "      <td>4</td>\n",
       "    </tr>\n",
       "    <tr>\n",
       "      <th>41268</th>\n",
       "      <td>i could feel the cold concrete a flat even out...</td>\n",
       "      <td>3</td>\n",
       "    </tr>\n",
       "    <tr>\n",
       "      <th>259719</th>\n",
       "      <td>i hated the drugs i hated feeling people movin...</td>\n",
       "      <td>3</td>\n",
       "    </tr>\n",
       "    <tr>\n",
       "      <th>48421</th>\n",
       "      <td>i feel him in the sight and touch of my beloved</td>\n",
       "      <td>1</td>\n",
       "    </tr>\n",
       "    <tr>\n",
       "      <th>240246</th>\n",
       "      <td>i can understand and appreciate the need for d...</td>\n",
       "      <td>0</td>\n",
       "    </tr>\n",
       "    <tr>\n",
       "      <th>307655</th>\n",
       "      <td>i think my spidey senses very awesome womens i...</td>\n",
       "      <td>1</td>\n",
       "    </tr>\n",
       "    <tr>\n",
       "      <th>71994</th>\n",
       "      <td>i feel as if i wronged my self honestly i that...</td>\n",
       "      <td>3</td>\n",
       "    </tr>\n",
       "    <tr>\n",
       "      <th>91016</th>\n",
       "      <td>i am feeling a little paranoid about getting s...</td>\n",
       "      <td>4</td>\n",
       "    </tr>\n",
       "    <tr>\n",
       "      <th>335010</th>\n",
       "      <td>im just not a dramatic guy and im the type of ...</td>\n",
       "      <td>1</td>\n",
       "    </tr>\n",
       "  </tbody>\n",
       "</table>\n",
       "</div>"
      ],
      "text/plain": [
       "                                                     text  label\n",
       "195985                 i feel so unloved my own boyfriend      0\n",
       "221280  i was really excited i was also feeling a litt...      4\n",
       "41268   i could feel the cold concrete a flat even out...      3\n",
       "259719  i hated the drugs i hated feeling people movin...      3\n",
       "48421     i feel him in the sight and touch of my beloved      1\n",
       "240246  i can understand and appreciate the need for d...      0\n",
       "307655  i think my spidey senses very awesome womens i...      1\n",
       "71994   i feel as if i wronged my self honestly i that...      3\n",
       "91016   i am feeling a little paranoid about getting s...      4\n",
       "335010  im just not a dramatic guy and im the type of ...      1"
      ]
     },
     "execution_count": 25,
     "metadata": {},
     "output_type": "execute_result"
    }
   ],
   "source": [
    "df['text'] = df['text'].str.lower().str.strip()\n"
   ]
  },
  {
   "cell_type": "code",
   "execution_count": 32,
   "metadata": {},
   "outputs": [],
   "source": [
    "import re\n",
    "\n",
    "datam = pd.read_csv('datasets/cleaned_data.csv')\n",
    "df = pd.DataFrame(datam)\n",
    "def clean_data(data):\n",
    "        data = re.sub(r'[^a-zA-Z\\s]', '', data)\n",
    "        data = re.sub(r'\\s+', ' ', data).strip() \n",
    "        return data\n",
    "df['text'] = df['text'].apply(clean_data)"
   ]
  },
  {
   "cell_type": "code",
   "execution_count": 33,
   "metadata": {},
   "outputs": [],
   "source": [
    "df.to_csv('datasets/cleaned_data.csv', index=False)"
   ]
  }
 ],
 "metadata": {
  "kernelspec": {
   "display_name": "venv",
   "language": "python",
   "name": "python3"
  },
  "language_info": {
   "codemirror_mode": {
    "name": "ipython",
    "version": 3
   },
   "file_extension": ".py",
   "mimetype": "text/x-python",
   "name": "python",
   "nbconvert_exporter": "python",
   "pygments_lexer": "ipython3",
   "version": "3.12.2"
  }
 },
 "nbformat": 4,
 "nbformat_minor": 2
}
