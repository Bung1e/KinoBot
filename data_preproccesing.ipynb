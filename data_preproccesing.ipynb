{
 "cells": [
  {
   "cell_type": "code",
   "execution_count": 3,
   "metadata": {},
   "outputs": [],
   "source": [
    "import pandas as pd \n",
    "import numpy as np\n",
    "import spacy\n",
    "from sklearn.model_selection import train_test_split"
   ]
  },
  {
   "cell_type": "code",
   "execution_count": 7,
   "metadata": {},
   "outputs": [
    {
     "data": {
      "text/plain": [
       "(416809, 2)"
      ]
     },
     "execution_count": 7,
     "metadata": {},
     "output_type": "execute_result"
    }
   ],
   "source": [
    "data = pd.read_csv(\"datasets/hugging/train-00000-of-00001.csv\")\n",
    "df = pd.DataFrame(data)\n",
    "names = {\n",
    "     0: 'sadness',\n",
    "     1: 'joy',\n",
    "     2: 'love',\n",
    "     3: 'anger',\n",
    "     4: 'fear',\n",
    "     5: 'surprise'\n",
    "}\n",
    "df.shape"
   ]
  },
  {
   "cell_type": "code",
   "execution_count": 16,
   "metadata": {},
   "outputs": [
    {
     "name": "stdout",
     "output_type": "stream",
     "text": [
      "<class 'pandas.core.frame.DataFrame'>\n",
      "RangeIndex: 416809 entries, 0 to 416808\n",
      "Data columns (total 2 columns):\n",
      " #   Column  Non-Null Count   Dtype \n",
      "---  ------  --------------   ----- \n",
      " 0   text    416809 non-null  object\n",
      " 1   label   416809 non-null  int64 \n",
      "dtypes: int64(1), object(1)\n",
      "memory usage: 6.4+ MB\n"
     ]
    }
   ],
   "source": [
    "df.info()"
   ]
  },
  {
   "cell_type": "code",
   "execution_count": 20,
   "metadata": {},
   "outputs": [
    {
     "data": {
      "text/plain": [
       "text     0\n",
       "label    0\n",
       "dtype: int64"
      ]
     },
     "execution_count": 20,
     "metadata": {},
     "output_type": "execute_result"
    }
   ],
   "source": [
    "missing_values = df.isna().sum()\n",
    "missing_values"
   ]
  },
  {
   "cell_type": "code",
   "execution_count": 25,
   "metadata": {},
   "outputs": [
    {
     "data": {
      "application/vnd.microsoft.datawrangler.viewer.v0+json": {
       "columns": [
        {
         "name": "index",
         "rawType": "int64",
         "type": "integer"
        },
        {
         "name": "text",
         "rawType": "object",
         "type": "string"
        },
        {
         "name": "label",
         "rawType": "int64",
         "type": "integer"
        }
       ],
       "conversionMethod": "pd.DataFrame",
       "ref": "de3f76cb-994e-4ab2-bf08-64b8c0894f7a",
       "rows": [
        [
         "195985",
         "i feel so unloved my own boyfriend",
         "0"
        ],
        [
         "221280",
         "i was really excited i was also feeling a little apprehensive all day",
         "4"
        ],
        [
         "41268",
         "i could feel the cold concrete a flat even outdoor surface mind you amp yikes was that a shock to my system",
         "3"
        ],
        [
         "259719",
         "i hated the drugs i hated feeling people moving things around inside of me which despite the drugs you do feel i hated not having my baby on my belly immediately upon arrival i hated being too drugged to hold her and i hated the long recovery",
         "3"
        ],
        [
         "48421",
         "i feel him in the sight and touch of my beloved",
         "1"
        ],
        [
         "240246",
         "i can understand and appreciate the need for diplomacy i feel that it is being abused",
         "0"
        ],
        [
         "307655",
         "i think my spidey senses very awesome womens intuition says you may even feel a tad relieved to read it",
         "1"
        ],
        [
         "71994",
         "i feel as if i wronged my self honestly i thats the way i felt",
         "3"
        ],
        [
         "91016",
         "i am feeling a little paranoid about getting sick a little anxious about my husband s stupid garage project and more than a bit worried about my father and i m wondering if maybe i need one of those a href http www",
         "4"
        ],
        [
         "335010",
         "im just not a dramatic guy and im the type of guy that i pretty much get along with everybody so you know im just level headed and i feel like im a cool guy thats laid back and dramas just not my thing so i didnt get entangled in it too much",
         "1"
        ]
       ],
       "shape": {
        "columns": 2,
        "rows": 10
       }
      },
      "text/html": [
       "<div>\n",
       "<style scoped>\n",
       "    .dataframe tbody tr th:only-of-type {\n",
       "        vertical-align: middle;\n",
       "    }\n",
       "\n",
       "    .dataframe tbody tr th {\n",
       "        vertical-align: top;\n",
       "    }\n",
       "\n",
       "    .dataframe thead th {\n",
       "        text-align: right;\n",
       "    }\n",
       "</style>\n",
       "<table border=\"1\" class=\"dataframe\">\n",
       "  <thead>\n",
       "    <tr style=\"text-align: right;\">\n",
       "      <th></th>\n",
       "      <th>text</th>\n",
       "      <th>label</th>\n",
       "    </tr>\n",
       "  </thead>\n",
       "  <tbody>\n",
       "    <tr>\n",
       "      <th>195985</th>\n",
       "      <td>i feel so unloved my own boyfriend</td>\n",
       "      <td>0</td>\n",
       "    </tr>\n",
       "    <tr>\n",
       "      <th>221280</th>\n",
       "      <td>i was really excited i was also feeling a litt...</td>\n",
       "      <td>4</td>\n",
       "    </tr>\n",
       "    <tr>\n",
       "      <th>41268</th>\n",
       "      <td>i could feel the cold concrete a flat even out...</td>\n",
       "      <td>3</td>\n",
       "    </tr>\n",
       "    <tr>\n",
       "      <th>259719</th>\n",
       "      <td>i hated the drugs i hated feeling people movin...</td>\n",
       "      <td>3</td>\n",
       "    </tr>\n",
       "    <tr>\n",
       "      <th>48421</th>\n",
       "      <td>i feel him in the sight and touch of my beloved</td>\n",
       "      <td>1</td>\n",
       "    </tr>\n",
       "    <tr>\n",
       "      <th>240246</th>\n",
       "      <td>i can understand and appreciate the need for d...</td>\n",
       "      <td>0</td>\n",
       "    </tr>\n",
       "    <tr>\n",
       "      <th>307655</th>\n",
       "      <td>i think my spidey senses very awesome womens i...</td>\n",
       "      <td>1</td>\n",
       "    </tr>\n",
       "    <tr>\n",
       "      <th>71994</th>\n",
       "      <td>i feel as if i wronged my self honestly i that...</td>\n",
       "      <td>3</td>\n",
       "    </tr>\n",
       "    <tr>\n",
       "      <th>91016</th>\n",
       "      <td>i am feeling a little paranoid about getting s...</td>\n",
       "      <td>4</td>\n",
       "    </tr>\n",
       "    <tr>\n",
       "      <th>335010</th>\n",
       "      <td>im just not a dramatic guy and im the type of ...</td>\n",
       "      <td>1</td>\n",
       "    </tr>\n",
       "  </tbody>\n",
       "</table>\n",
       "</div>"
      ],
      "text/plain": [
       "                                                     text  label\n",
       "195985                 i feel so unloved my own boyfriend      0\n",
       "221280  i was really excited i was also feeling a litt...      4\n",
       "41268   i could feel the cold concrete a flat even out...      3\n",
       "259719  i hated the drugs i hated feeling people movin...      3\n",
       "48421     i feel him in the sight and touch of my beloved      1\n",
       "240246  i can understand and appreciate the need for d...      0\n",
       "307655  i think my spidey senses very awesome womens i...      1\n",
       "71994   i feel as if i wronged my self honestly i that...      3\n",
       "91016   i am feeling a little paranoid about getting s...      4\n",
       "335010  im just not a dramatic guy and im the type of ...      1"
      ]
     },
     "execution_count": 25,
     "metadata": {},
     "output_type": "execute_result"
    }
   ],
   "source": [
    "df['text'] = df['text'].str.lower().str.strip()\n"
   ]
  },
  {
   "cell_type": "code",
   "execution_count": 32,
   "metadata": {},
   "outputs": [],
   "source": [
    "import re\n",
    "\n",
    "datam = pd.read_csv('datasets/cleaned_data.csv')\n",
    "df = pd.DataFrame(datam)\n",
    "def clean_data(data):\n",
    "        data = re.sub(r'[^a-zA-Z\\s]', '', data)\n",
    "        data = re.sub(r'\\s+', ' ', data).strip() \n",
    "        return data\n",
    "df['text'] = df['text'].apply(clean_data)"
   ]
  },
  {
   "cell_type": "code",
   "execution_count": null,
   "metadata": {},
   "outputs": [
    {
     "data": {
      "application/vnd.microsoft.datawrangler.viewer.v0+json": {
       "columns": [
        {
         "name": "index",
         "rawType": "int64",
         "type": "integer"
        },
        {
         "name": "text",
         "rawType": "object",
         "type": "string"
        },
        {
         "name": "tokens",
         "rawType": "object",
         "type": "string"
        },
        {
         "name": "embedding",
         "rawType": "object",
         "type": "string"
        }
       ],
       "conversionMethod": "pd.DataFrame",
       "ref": "0caeb0a3-4059-440a-aedf-486bc78748c1",
       "rows": [
        [
         "89214",
         "i don t have any electricity except for power tools or internet so i pretty much crash when the sun sets and don t feel distracted",
         "['don', 't', 'electricity', 'power', 'tool', 'internet', 'pretty', 'crash', 'sun', 'set', 'don', 't', 'feel', 'distracted']",
         "[ 0.11653423 -0.56731784  0.2400721   0.16317835 -0.16762738 -0.0973442\n  0.8958726   0.6571329   0.1066075  -0.25889692  0.10973985 -0.10918932\n  0.06065884 -0.5865539  -0.2800003   0.1681348  -0.4489479  -0.16196193\n  0.33495125 -0.48983046 -0.10251421  0.81140745 -0.34347755 -0.10467482\n  0.08456019 -0.28829473 -0.06248379  0.29697555  0.16956306  0.12134944\n -0.3404241  -0.12901606 -0.49414474 -0.06330111 -0.49132404  0.00439206\n -0.06583013  0.23799095 -0.294745   -0.16797225 -0.2545495   0.7546605\n -0.31991076  0.4816311   0.07163566  0.26680136 -0.37149355  0.1526958\n -0.0258488  -0.17861223 -0.18545948  0.12126524  0.01708138 -0.43305156\n -0.22881052 -0.2934905   0.3937661   0.10536595 -0.05147507 -0.03773155\n -0.23937991  0.12207415 -0.02950398 -0.05510689 -0.30177334 -0.23454405\n  0.5170532   0.5116158  -0.00838793 -0.22877155  0.39501777 -0.03807123\n -0.02256742 -0.09572942  0.8698247  -0.3166375  -0.42901668 -0.6963689\n  0.3615412  -0.24321859 -0.3498303   0.04006722  0.0688449  -0.11541974\n -0.14965351 -0.02621858  0.11717252 -0.42240897 -0.6449304   0.74090403\n -0.10399044  0.21199028  0.3309862   0.42262787  0.3026292   0.16016258]"
        ],
        [
         "83404",
         "i feel selfish and mean",
         "['feel', 'selfish', 'mean']",
         "[ 0.4261094  -0.7566476  -0.20114161 -0.33477223 -0.5343661   0.2636158\n -0.337074    0.22015087 -0.2789829  -0.7963807  -0.1592516  -0.1045304\n -0.8825855   0.2969115   0.19791146 -0.36604515 -0.5547865  -0.43902636\n -0.08740116 -0.5518213  -0.53968704  0.8403562  -0.33023778  0.09251306\n  0.3544333  -0.50494146 -0.02164769  0.42450428  0.05394842 -0.40703574\n -0.05920462 -0.1231851   0.18452187  0.03143533 -0.2198857  -0.38756117\n  0.15915878 -0.06112908  0.10765766 -0.713967   -0.2331055   0.49697646\n -0.6012022   0.21733378 -0.15009865  0.36499023  0.7717791  -0.5780852\n  0.13405347 -0.05676565 -0.38095555  0.49864134 -0.06046245 -0.659611\n  0.24118485 -0.18696195 -0.00755022 -0.00865197  0.07812334  0.5241557\n -0.21713592  0.9130557  -0.14203177 -0.23491234 -0.04068388  0.15484957\n  0.45198393  0.14989251  0.20821662  0.3512446   0.21091668  0.631909\n -0.04377888 -0.06448201 -0.21009864  0.2379492  -0.35387298 -0.3651038\n  0.19087185 -0.22841589 -0.35455763  0.06153679 -0.26303157 -0.03155133\n -0.32988372  0.10813591  0.18382366 -0.24387236 -0.23689425  0.6055187\n  0.10895971  0.66364306  1.1599549   0.40589345  0.36480165  0.8630089 ]"
        ],
        [
         "43779",
         "i need less sleep and feel physically more energetic all day long",
         "['need', 'sleep', 'feel', 'physically', 'energetic', 'day', 'long']",
         "[ 0.47348997 -0.47344452 -0.01188317 -0.5015975  -0.3516175  -0.07748764\n  0.43773338  0.15791538 -0.25736633 -0.66593647 -0.38171667 -0.25303015\n -0.2030998   0.05252774  0.1758491   0.40430024  0.21431638 -0.32049754\n -0.1881347   0.08738589 -0.07401275  0.96124595  0.01160972 -0.06784736\n -0.41054186 -0.2616055  -0.20144549  0.29390955  0.02902779 -0.28540778\n  0.46658012  0.05016809 -0.06458198 -0.23908994  0.0123349  -0.18457246\n  0.14659266 -0.37098578  0.16878036 -0.04515498 -0.32381496  0.3365079\n -0.4003016   0.23583174  0.12578619  0.18815589  0.07297659 -0.11948309\n -0.21668155  0.03213537 -0.51132816  0.12422197 -0.11821655 -0.41793942\n  0.46195963 -0.06229812  0.08482292 -0.5274128  -0.08650015  0.29434827\n -0.34920147 -0.16927944 -0.4839193  -0.21984024 -0.02194908 -0.05042936\n  0.3295674  -0.2392607   0.19332412  0.2577855   0.5268792  -0.01284842\n -0.33511183  0.12179327 -0.45563313  0.08824833  0.16466759 -0.545024\n  0.29099345  0.21341    -0.25594267  0.25726354  0.12500462  0.41544983\n -0.28475448 -0.0268158   0.151691   -0.09518117 -0.21179399  0.7291686\n  0.12950936  0.29445368  0.5001069   0.5867558  -0.18941137  0.05008654]"
        ],
        [
         "114424",
         "i guess i try to control them rather than feel helpless",
         "['guess', 'try', 'control', 'feel', 'helpless']",
         "[-0.06593034 -0.8317199  -0.07971387 -0.23953989 -0.47413078  0.0759009\n  0.02467368  0.07102199 -0.56363475 -0.67968243 -0.3141182  -0.5708132\n -0.05906914  0.19092746  0.3005258   0.4168047  -0.08913928 -0.30782175\n -0.12782069  0.11198294 -0.6135055   1.3474455  -0.46688795 -0.09324141\n  0.0632931  -0.13865028  0.72390777  0.9380002  -0.8355015  -0.53695786\n  0.1777133  -0.17975481  0.16951877  0.4670918   0.06459449 -0.00668261\n -0.01461398 -0.36179405  0.06505475 -0.19430748 -0.53541774  0.02242875\n -0.3800024  -0.25614196 -0.09475426  0.32417664  0.93040544 -0.35272095\n  0.18865097  0.11351363 -0.25081015  0.24664703 -0.57235795 -0.81664735\n  0.36402053 -0.22822917  0.06517543 -0.1348561  -0.20259361  0.05806042\n -0.11248622  0.53774285  0.1343517   0.67290246 -0.01735035 -0.23189375\n  0.39347544 -0.11277368 -0.00747249  0.7098063   0.25795475  0.23146276\n -0.10046289  0.37300813 -0.32358673  0.18501796 -0.35545024 -0.33023834\n -0.02797903  0.2245864  -0.37044072  0.51891977 -0.4993238   0.27250543\n -0.18504566  0.16617475  0.04229947 -0.40507847 -0.45177627  0.712518\n -0.06854284  0.4967577   0.5520591   0.50426316  0.24066786  0.24045174]"
        ],
        [
         "132941",
         "i can still feel it and i try to hide it by being more funny or corny",
         "['feel', 'try', 'hide', 'funny', 'corny']",
         "[ 0.11362965 -0.75002587 -0.21689293  0.02356759 -0.4980361   0.29670075\n -0.17312698  0.1125473  -0.59677917 -0.69864774 -0.0705831  -0.376285\n -0.29992077  0.4873909   0.3977468   0.67206174 -0.16814366 -0.4962814\n -0.15690027 -0.3401815  -0.5217751   0.8346569  -0.09970751 -0.09004469\n  0.27184886  0.09469838  0.546383    0.74021196 -0.5336453  -0.5941875\n -0.09061085  0.0485033  -0.17950454  0.26043493  0.19681175 -0.0931017\n -0.10438588  0.06249822  0.12214954 -0.125462   -0.4022321   0.34020382\n -0.54653966 -0.11776719 -0.15611634  0.1115845   0.79409075 -0.65256095\n  0.06191578 -0.0463643  -0.347933   -0.12110845 -0.18055958 -0.635399\n -0.08991478 -0.24429198  0.22605619 -0.182726    0.05864756 -0.01679043\n -0.20536351  0.4200538   0.24009125  0.17380169  0.3622273  -0.29107082\n  0.5534954  -0.11690819 -0.03278694  0.2532444   0.23062718  0.3183521\n  0.15895613  0.35459718 -0.32314914  0.00302181 -0.6029436  -0.25467724\n  0.06033915  0.1163674   0.25613934  0.04889814 -0.44363898 -0.21263151\n -0.14667289  0.07858595  0.20542851 -0.726388   -0.38615713  0.87670124\n  0.341998    0.20451656  0.7388173   0.2239161   0.2440128   0.06224551]"
        ]
       ],
       "shape": {
        "columns": 3,
        "rows": 5
       }
      },
      "text/html": [
       "<div>\n",
       "<style scoped>\n",
       "    .dataframe tbody tr th:only-of-type {\n",
       "        vertical-align: middle;\n",
       "    }\n",
       "\n",
       "    .dataframe tbody tr th {\n",
       "        vertical-align: top;\n",
       "    }\n",
       "\n",
       "    .dataframe thead th {\n",
       "        text-align: right;\n",
       "    }\n",
       "</style>\n",
       "<table border=\"1\" class=\"dataframe\">\n",
       "  <thead>\n",
       "    <tr style=\"text-align: right;\">\n",
       "      <th></th>\n",
       "      <th>text</th>\n",
       "      <th>tokens</th>\n",
       "      <th>embedding</th>\n",
       "    </tr>\n",
       "  </thead>\n",
       "  <tbody>\n",
       "    <tr>\n",
       "      <th>89214</th>\n",
       "      <td>i don t have any electricity except for power ...</td>\n",
       "      <td>['don', 't', 'electricity', 'power', 'tool', '...</td>\n",
       "      <td>[ 0.11653423 -0.56731784  0.2400721   0.163178...</td>\n",
       "    </tr>\n",
       "    <tr>\n",
       "      <th>83404</th>\n",
       "      <td>i feel selfish and mean</td>\n",
       "      <td>['feel', 'selfish', 'mean']</td>\n",
       "      <td>[ 0.4261094  -0.7566476  -0.20114161 -0.334772...</td>\n",
       "    </tr>\n",
       "    <tr>\n",
       "      <th>43779</th>\n",
       "      <td>i need less sleep and feel physically more ene...</td>\n",
       "      <td>['need', 'sleep', 'feel', 'physically', 'energ...</td>\n",
       "      <td>[ 0.47348997 -0.47344452 -0.01188317 -0.501597...</td>\n",
       "    </tr>\n",
       "    <tr>\n",
       "      <th>114424</th>\n",
       "      <td>i guess i try to control them rather than feel...</td>\n",
       "      <td>['guess', 'try', 'control', 'feel', 'helpless']</td>\n",
       "      <td>[-0.06593034 -0.8317199  -0.07971387 -0.239539...</td>\n",
       "    </tr>\n",
       "    <tr>\n",
       "      <th>132941</th>\n",
       "      <td>i can still feel it and i try to hide it by be...</td>\n",
       "      <td>['feel', 'try', 'hide', 'funny', 'corny']</td>\n",
       "      <td>[ 0.11362965 -0.75002587 -0.21689293  0.023567...</td>\n",
       "    </tr>\n",
       "  </tbody>\n",
       "</table>\n",
       "</div>"
      ],
      "text/plain": [
       "                                                     text  \\\n",
       "89214   i don t have any electricity except for power ...   \n",
       "83404                             i feel selfish and mean   \n",
       "43779   i need less sleep and feel physically more ene...   \n",
       "114424  i guess i try to control them rather than feel...   \n",
       "132941  i can still feel it and i try to hide it by be...   \n",
       "\n",
       "                                                   tokens  \\\n",
       "89214   ['don', 't', 'electricity', 'power', 'tool', '...   \n",
       "83404                         ['feel', 'selfish', 'mean']   \n",
       "43779   ['need', 'sleep', 'feel', 'physically', 'energ...   \n",
       "114424    ['guess', 'try', 'control', 'feel', 'helpless']   \n",
       "132941          ['feel', 'try', 'hide', 'funny', 'corny']   \n",
       "\n",
       "                                                embedding  \n",
       "89214   [ 0.11653423 -0.56731784  0.2400721   0.163178...  \n",
       "83404   [ 0.4261094  -0.7566476  -0.20114161 -0.334772...  \n",
       "43779   [ 0.47348997 -0.47344452 -0.01188317 -0.501597...  \n",
       "114424  [-0.06593034 -0.8317199  -0.07971387 -0.239539...  \n",
       "132941  [ 0.11362965 -0.75002587 -0.21689293  0.023567...  "
      ]
     },
     "execution_count": 4,
     "metadata": {},
     "output_type": "execute_result"
    }
   ],
   "source": []
  },
  {
   "cell_type": "code",
   "execution_count": null,
   "metadata": {},
   "outputs": [],
   "source": []
  }
 ],
 "metadata": {
  "kernelspec": {
   "display_name": "venv",
   "language": "python",
   "name": "python3"
  },
  "language_info": {
   "codemirror_mode": {
    "name": "ipython",
    "version": 3
   },
   "file_extension": ".py",
   "mimetype": "text/x-python",
   "name": "python",
   "nbconvert_exporter": "python",
   "pygments_lexer": "ipython3",
   "version": "3.12.2"
  }
 },
 "nbformat": 4,
 "nbformat_minor": 2
}
